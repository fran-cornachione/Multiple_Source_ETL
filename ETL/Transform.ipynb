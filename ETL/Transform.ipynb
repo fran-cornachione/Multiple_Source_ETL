{
 "cells": [
  {
   "cell_type": "code",
   "execution_count": 5,
   "id": "501f92ad",
   "metadata": {},
   "outputs": [],
   "source": [
    "import polars as pl\n",
    "from deltalake import DeltaTable, write_deltalake"
   ]
  },
  {
   "cell_type": "code",
   "execution_count": 6,
   "id": "016df1a0",
   "metadata": {},
   "outputs": [],
   "source": [
    "bronze_path = 'C:/Users/Usuario/Desktop/multiple_source_ETL/data/bronze_layer'\n",
    "silver_path = 'C:/Users/Usuario/Desktop/multiple_source_ETL/data/silver_layer'\n",
    "gold_path = 'C:/Users/Usuario/Desktop/multiple_source_ETL/data/gold_layer'"
   ]
  },
  {
   "cell_type": "markdown",
   "id": "46cfe3f8",
   "metadata": {},
   "source": [
    "## **Converting everything to the same format (Parquet)**"
   ]
  },
  {
   "cell_type": "markdown",
   "id": "f26e0154",
   "metadata": {},
   "source": [
    "### **Reading from bronze layer**"
   ]
  },
  {
   "cell_type": "code",
   "execution_count": 7,
   "id": "b9bf5690",
   "metadata": {},
   "outputs": [],
   "source": [
    "# Customers\n",
    "df_customers_2023 = pl.read_parquet(f'{bronze_path}/2023/2023_customers.parquet')\n",
    "df_customers_2024 = pl.read_csv(f'{bronze_path}/2024/customers.csv')\n",
    "df_customers_2025 = pl.read_parquet(f'{bronze_path}/2025/customers.parquet')\n",
    "\n",
    "# Employees\n",
    "df_employees_2023 = pl.read_csv(f'{bronze_path}/2023/2023_employees.csv')\n",
    "df_employees_2024 = pl.read_csv(f'{bronze_path}/2024/employees.csv')\n",
    "df_employees_2025 = pl.read_csv(f'{bronze_path}/2025/employees.csv')\n",
    "\n",
    "# Orders\n",
    "df_orders_2023 = pl.read_parquet(f'{bronze_path}/2023/2023_orders.parquet')\n",
    "df_orders_2024 = pl.read_csv(f'{bronze_path}/2024/orders.csv')\n",
    "df_orders_2025 = pl.read_parquet(f'{bronze_path}/2025/orders.parquet')\n",
    "\n",
    "# Products\n",
    "df_products_2023 = pl.read_csv(f'{bronze_path}/2023/2023_products.csv')\n",
    "df_products_2024 = pl.read_csv(f'{bronze_path}/2024/products.csv')\n",
    "df_products_2025 = pl.read_csv(f'{bronze_path}/2025/products.csv')"
   ]
  },
  {
   "cell_type": "markdown",
   "id": "673b54dc",
   "metadata": {},
   "source": [
    "### **Writing to silver layer**"
   ]
  },
  {
   "cell_type": "code",
   "execution_count": 8,
   "id": "784d2379",
   "metadata": {},
   "outputs": [],
   "source": [
    "# Customers\n",
    "df_customers_2023.write_parquet(f'{silver_path}/2023/customers/customers_2023.parquet')\n",
    "df_customers_2024.write_parquet(f'{silver_path}/2024/customers/customers_2024.parquet')\n",
    "df_customers_2025.write_parquet(f'{silver_path}/2025/customers/customers_2025.parquet')\n",
    "\n",
    "# Employees\n",
    "df_employees_2023.write_parquet(f'{silver_path}/2023/employees/employees_2023.parquet')\n",
    "df_employees_2024.write_parquet(f'{silver_path}/2024/employees/employees_2024.parquet')\n",
    "df_employees_2025.write_parquet(f'{silver_path}/2025/employees/employees_2025.parquet')\n",
    "\n",
    "# Orders\n",
    "df_orders_2023.write_parquet(f'{silver_path}/2023/orders/orders_2023.parquet')\n",
    "df_orders_2024.write_parquet(f'{silver_path}/2024/orders/orders_2024.parquet')\n",
    "df_orders_2025.write_parquet(f'{silver_path}/2025/orders/orders_2025.parquet')\n",
    "\n",
    "# Products\n",
    "df_products_2023.write_parquet(f'{silver_path}/2023/products/products_2023.parquet')\n",
    "df_products_2024.write_parquet(f'{silver_path}/2024/products/products_2024.parquet')\n",
    "df_products_2025.write_parquet(f'{silver_path}/2025/products/products_2025.parquet')"
   ]
  },
  {
   "cell_type": "markdown",
   "id": "9300eb5b",
   "metadata": {},
   "source": [
    "### **Reading (as `Parquet`) from silver layer**"
   ]
  },
  {
   "cell_type": "code",
   "execution_count": 9,
   "id": "e3dd2b55",
   "metadata": {},
   "outputs": [],
   "source": [
    "# Customers\n",
    "df_customers_2023 = pl.read_parquet(f'{silver_path}/2023/customers/customers_2023.parquet')\n",
    "df_customers_2024 = pl.read_parquet(f'{silver_path}/2024/customers/customers_2024.parquet')\n",
    "df_customers_2025 = pl.read_parquet(f'{silver_path}/2025/customers/customers_2025.parquet')\n",
    "\n",
    "# Employees\n",
    "df_employees_2023 = pl.read_parquet(f'{silver_path}/2023/employees/employees_2023.parquet')\n",
    "df_employees_2024 = pl.read_parquet(f'{silver_path}/2024/employees/employees_2024.parquet')\n",
    "df_employees_2025 = pl.read_parquet(f'{silver_path}/2025/employees/employees_2025.parquet')\n",
    "\n",
    "# Orders\n",
    "df_orders_2023 = pl.read_parquet(f'{silver_path}/2023/orders/orders_2023.parquet')\n",
    "df_orders_2024 = pl.read_parquet(f'{silver_path}/2024/orders/orders_2024.parquet')\n",
    "df_orders_2025 = pl.read_parquet(f'{silver_path}/2025/orders/orders_2025.parquet')\n",
    "\n",
    "# Products\n",
    "df_products_2023 = pl.read_parquet(f'{silver_path}/2023/products/products_2023.parquet')\n",
    "df_products_2024 = pl.read_parquet(f'{silver_path}/2024/products/products_2024.parquet')\n",
    "df_products_2025 = pl.read_parquet(f'{silver_path}/2025/products/products_2025.parquet')"
   ]
  },
  {
   "cell_type": "markdown",
   "id": "925b5d08",
   "metadata": {},
   "source": [
    "Now, all the files have the same format: **(Parquet)**"
   ]
  },
  {
   "cell_type": "markdown",
   "id": "853f88ba",
   "metadata": {},
   "source": [
    "---\n",
    "## **Employees Transformations**"
   ]
  },
  {
   "cell_type": "markdown",
   "id": "c181893e",
   "metadata": {},
   "source": [
    "1. Creating the column \"level\" based on employees years of experience\n",
    "\n",
    "2. Updating senior employees (with salaries lower than 5000) salary by 10%"
   ]
  },
  {
   "cell_type": "code",
   "execution_count": 10,
   "id": "84075c7e",
   "metadata": {},
   "outputs": [],
   "source": [
    "def transform_employees(df: pl.DataFrame) -> pl.DataFrame:\n",
    "    return (\n",
    "\n",
    "      # 1. Creating the column \"level\" based on employees YOE\n",
    "        df.with_columns([\n",
    "            pl.when(pl.col(\"years_of_experience\") < 2)\n",
    "              .then(pl.lit(\"Junior\"))\n",
    "              .when((pl.col(\"years_of_experience\") >= 2) & (pl.col(\"years_of_experience\") < 5))\n",
    "              .then(pl.lit(\"Semi Senior\"))\n",
    "              .otherwise(pl.lit(\"Senior\"))\n",
    "              .alias(\"level\")\n",
    "        ])\n",
    "\n",
    "        # 2. Updating senior employees (with salaries lower than 5000) salary by 10%\n",
    "        .with_columns([\n",
    "            pl.when((pl.col(\"level\") == \"Senior\") & (pl.col(\"salary\") < 5000))\n",
    "              .then(pl.col(\"salary\") * 1.1)\n",
    "              .otherwise(pl.col(\"salary\"))\n",
    "              .alias(\"salary\")\n",
    "        ])\n",
    "    )\n",
    "\n",
    "df_employees_2023 = transform_employees(df_employees_2023)\n",
    "df_employees_2024 = transform_employees(df_employees_2024)\n",
    "df_employees_2025 = transform_employees(df_employees_2025)"
   ]
  },
  {
   "cell_type": "markdown",
   "id": "daf73939",
   "metadata": {},
   "source": [
    "---\n",
    "## **Orders Transformations**"
   ]
  },
  {
   "cell_type": "markdown",
   "id": "aaaf815a",
   "metadata": {},
   "source": [
    "Adding the column \"`total`\" as (`quantity` * `amount`)"
   ]
  },
  {
   "cell_type": "code",
   "execution_count": 11,
   "id": "ba97d8c8",
   "metadata": {},
   "outputs": [],
   "source": [
    "def transform_orders(df: pl.DataFrame) -> pl.DataFrame:\n",
    "    return df.with_columns([\n",
    "    (pl.col(\"quantity\") * pl.col(\"amount\")).alias(\"total\")\n",
    "])\n",
    "\n",
    "df_orders_2023 = transform_orders(df_orders_2023)\n",
    "df_orders_2024 = transform_orders(df_orders_2024)\n",
    "df_orders_2025 = transform_orders(df_orders_2025)"
   ]
  },
  {
   "cell_type": "markdown",
   "id": "6f2aa6ab",
   "metadata": {},
   "source": [
    "---\n",
    "## **Customers Transformations**"
   ]
  },
  {
   "cell_type": "markdown",
   "id": "3c84974c",
   "metadata": {},
   "source": [
    "Assigning a category to each customer based on their amount of orders (`order_id`)"
   ]
  },
  {
   "cell_type": "code",
   "execution_count": 12,
   "id": "e0e01f6b",
   "metadata": {},
   "outputs": [],
   "source": [
    "def transform_customers(df_customers: pl.DataFrame, df_orders: pl.DataFrame) -> pl.DataFrame:\n",
    "\n",
    "    # 1. Count orders by client\n",
    "    orders_count = df_orders.group_by(\"customer_id\").agg(\n",
    "        pl.count(\"order_id\").alias(\"num_orders\")\n",
    "    )\n",
    "    \n",
    "    # 2. Join with clients\n",
    "    df = df_customers.join(orders_count, on=\"customer_id\", how=\"left\")\n",
    "    \n",
    "    # 3. Replace nulls with 0\n",
    "    df = df.with_columns([\n",
    "        pl.col(\"num_orders\").fill_null(0)\n",
    "    ])\n",
    "    \n",
    "    # 4. Categorize clients by amount of orders\n",
    "    df = df.with_columns([\n",
    "        pl.when(pl.col(\"num_orders\") < 5)\n",
    "          .then(pl.lit(\"bronze\"))\n",
    "          .when((pl.col(\"num_orders\") >= 5) & (pl.col(\"num_orders\") < 10))\n",
    "          .then(pl.lit(\"silver\"))\n",
    "          .when((pl.col(\"num_orders\") >= 10) & (pl.col(\"num_orders\") < 20))\n",
    "          .then(pl.lit(\"gold\"))\n",
    "          .otherwise(pl.lit(\"diamond\"))\n",
    "          .alias(\"category\")\n",
    "    ])\n",
    "\n",
    "    return df\n",
    "\n",
    "df_customers_2023 = transform_customers(df_customers_2023, df_orders_2023)\n",
    "df_customers_2024 = transform_customers(df_customers_2024, df_orders_2024)\n",
    "df_customers_2025 = transform_customers(df_customers_2025, df_orders_2025)"
   ]
  },
  {
   "cell_type": "markdown",
   "id": "1b57e009",
   "metadata": {},
   "source": [
    "## **Writing clean data to Gold Layer**"
   ]
  },
  {
   "cell_type": "code",
   "execution_count": 13,
   "id": "3dba402a",
   "metadata": {},
   "outputs": [],
   "source": [
    "df_employees_2023.write_parquet(f\"{gold_path}/employees/employees_2023.parquet\")\n",
    "df_employees_2024.write_parquet(f\"{gold_path}/employees/employees_2024.parquet\")\n",
    "df_employees_2025.write_parquet(f\"{gold_path}/employees/employees_2025.parquet\")\n",
    "\n",
    "df_customers_2023.write_parquet(f\"{gold_path}/customers/customers_2023.parquet\")\n",
    "df_customers_2024.write_parquet(f\"{gold_path}/customers/customers_2024.parquet\")\n",
    "df_customers_2025.write_parquet(f\"{gold_path}/customers/customers_2025.parquet\")\n",
    "\n",
    "df_products_2023.write_parquet(f\"{gold_path}/products/products_2023.parquet\")\n",
    "df_products_2024.write_parquet(f\"{gold_path}/products/products_2024.parquet\")\n",
    "df_products_2025.write_parquet(f\"{gold_path}/products/products_2025.parquet\")\n",
    "\n",
    "df_orders_2023.write_parquet(f\"{gold_path}/orders/orders_2023.parquet\")\n",
    "df_orders_2024.write_parquet(f\"{gold_path}/orders/orders_2024.parquet\")\n",
    "df_orders_2025.write_parquet(f\"{gold_path}/orders/orders_2025.parquet\")"
   ]
  }
 ],
 "metadata": {
  "kernelspec": {
   "display_name": "Python 3",
   "language": "python",
   "name": "python3"
  },
  "language_info": {
   "codemirror_mode": {
    "name": "ipython",
    "version": 3
   },
   "file_extension": ".py",
   "mimetype": "text/x-python",
   "name": "python",
   "nbconvert_exporter": "python",
   "pygments_lexer": "ipython3",
   "version": "3.11.8"
  }
 },
 "nbformat": 4,
 "nbformat_minor": 5
}
