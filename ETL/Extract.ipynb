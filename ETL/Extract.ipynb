{
 "cells": [
  {
   "cell_type": "code",
   "execution_count": null,
   "id": "dd28fd8f",
   "metadata": {},
   "outputs": [],
   "source": [
    "import polars as pl\n",
    "import boto3\n",
    "import pandas as pd\n",
    "import os\n",
    "from dotenv import load_dotenv\n",
    "from sqlalchemy import create_engine"
   ]
  },
  {
   "cell_type": "markdown",
   "id": "c3581210",
   "metadata": {},
   "source": [
    "## **Extracting from S3 Bucket (2023 Data)**\n",
    "\n",
    "In case you were to run this script multiple times, it will automatically overwrite the files"
   ]
  },
  {
   "cell_type": "code",
   "execution_count": null,
   "id": "bff5628d",
   "metadata": {},
   "outputs": [],
   "source": [
    "load_dotenv()\n",
    "\n",
    "s3 = boto3.client(\n",
    "    's3',\n",
    "    aws_access_key_id = os.getenv(\"AWS_ACCESS_KEY_ID\"),\n",
    "    aws_secret_access_key = os.getenv(\"AWS_SECRET_ACCESS_KEY\")\n",
    ")\n",
    "\n",
    "s3_path = 'data/2023/'\n",
    "bucket_name = os.getenv(\"AWS_BUCKET_NAME\") \n",
    "\n",
    "# Files in S3 Bucket\n",
    "object_keys = [\n",
    "    f'{s3_path}2023_customers.parquet',\n",
    "    f'{s3_path}2023_employees.csv',\n",
    "    f'{s3_path}2023_orders.parquet',\n",
    "    f'{s3_path}2023_products.csv'\n",
    "]\n",
    "\n",
    "local_base_path = os.path.abspath(os.path.join('..', 'data', 'bronze_layer', '2023')) # Output (local) path\n",
    "\n",
    "# os.makedirs(local_base_path, exist_ok=True)\n",
    "\n",
    "for key in object_keys:\n",
    "    filename = os.path.basename(key) # Extract only the filename from the S3 key\n",
    "    local_path = os.path.join(local_base_path, filename) # Build full local path\n",
    "\n",
    "    s3.download_file(bucket_name, key, local_path)\n",
    "    print(f\"Downloaded: {key} -> {local_path}\")"
   ]
  },
  {
   "cell_type": "markdown",
   "id": "9a49eb84",
   "metadata": {},
   "source": [
    "## **Extracting from MySQL Database (2024 Data)**"
   ]
  },
  {
   "cell_type": "code",
   "execution_count": null,
   "id": "333c784c",
   "metadata": {},
   "outputs": [
    {
     "name": "stdout",
     "output_type": "stream",
     "text": [
      "Table: employees downloaded to: c:\\Users\\Usuario\\Desktop\\multiple_source_ETL\\data\\bronze_layer\\2024\n",
      "Table: customers downloaded to: c:\\Users\\Usuario\\Desktop\\multiple_source_ETL\\data\\bronze_layer\\2024\n",
      "Table: orders downloaded to: c:\\Users\\Usuario\\Desktop\\multiple_source_ETL\\data\\bronze_layer\\2024\n",
      "Table: products downloaded to: c:\\Users\\Usuario\\Desktop\\multiple_source_ETL\\data\\bronze_layer\\2024\n"
     ]
    }
   ],
   "source": [
    "# Connect to MySQL\n",
    "user = os.getenv(\"MYSQL_USER\")\n",
    "password = os.getenv(\"MYSQL_PASSWORD\")\n",
    "host = 'localhost'\n",
    "port = '3306'\n",
    "db = os.getenv(\"MYSQL_DATABASE\")\n",
    "\n",
    "engine = create_engine(f'mysql+pymysql://{user}:{password}@{host}:{port}/{db}')\n",
    "\n",
    "tables = ['employees', 'customers', 'orders', 'products']\n",
    "\n",
    "output_path = os.path.abspath(os.path.join('..', 'data', 'bronze_layer', '2024'))\n",
    "\n",
    "for table in tables:\n",
    "    query = f\"SELECT * FROM {table}\"\n",
    "    df = pd.read_sql(query, engine)\n",
    "\n",
    "    df.to_csv(f\"{output_path}/{table}.csv\", index=False)\n",
    "    print(f\"Table {table} downloaded to: {output_path}\")"
   ]
  }
 ],
 "metadata": {
  "kernelspec": {
   "display_name": "Python 3",
   "language": "python",
   "name": "python3"
  },
  "language_info": {
   "codemirror_mode": {
    "name": "ipython",
    "version": 3
   },
   "file_extension": ".py",
   "mimetype": "text/x-python",
   "name": "python",
   "nbconvert_exporter": "python",
   "pygments_lexer": "ipython3",
   "version": "3.11.8"
  }
 },
 "nbformat": 4,
 "nbformat_minor": 5
}
