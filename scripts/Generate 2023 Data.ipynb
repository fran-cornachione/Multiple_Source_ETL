{
 "cells": [
  {
   "cell_type": "code",
   "execution_count": 0,
   "metadata": {
    "application/vnd.databricks.v1+cell": {
     "cellMetadata": {
      "byteLimit": 2048000,
      "rowLimit": 10000
     },
     "inputWidgets": {},
     "nuid": "4a384f05-4a11-4c85-8583-d4a75282e32f",
     "showTitle": false,
     "tableResultSettingsMap": {},
     "title": ""
    }
   },
   "outputs": [],
   "source": [
    "%pip install polars faker "
   ]
  },
  {
   "cell_type": "code",
   "execution_count": 0,
   "metadata": {
    "application/vnd.databricks.v1+cell": {
     "cellMetadata": {
      "byteLimit": 2048000,
      "rowLimit": 10000
     },
     "inputWidgets": {},
     "nuid": "85ef50dc-5736-4c38-b89e-b7a4a9567b6c",
     "showTitle": false,
     "tableResultSettingsMap": {},
     "title": ""
    }
   },
   "outputs": [],
   "source": [
    "from faker import Faker\n",
    "import polars as pl\n",
    "import datetime\n",
    "import random"
   ]
  },
  {
   "cell_type": "code",
   "execution_count": 0,
   "metadata": {
    "application/vnd.databricks.v1+cell": {
     "cellMetadata": {
      "byteLimit": 2048000,
      "rowLimit": 10000
     },
     "inputWidgets": {},
     "nuid": "e45c80f8-fde8-480e-8483-c9805e8badbf",
     "showTitle": false,
     "tableResultSettingsMap": {},
     "title": ""
    }
   },
   "outputs": [],
   "source": [
    "fake = Faker('en_US') # Language that Faker will use to generate Data"
   ]
  },
  {
   "cell_type": "code",
   "execution_count": 0,
   "metadata": {
    "application/vnd.databricks.v1+cell": {
     "cellMetadata": {
      "byteLimit": 2048000,
      "rowLimit": 10000
     },
     "inputWidgets": {},
     "nuid": "c4e16d7d-5d42-4df9-a883-b5caaeab48be",
     "showTitle": false,
     "tableResultSettingsMap": {},
     "title": ""
    }
   },
   "outputs": [],
   "source": [
    "# List of jobs that will be asigned to employees\n",
    "\n",
    "jobs = [\n",
    "    'Creative Director', \n",
    "    'Data Engineer', \n",
    "    'Data Analyst', \n",
    "    'BI Analyst', \n",
    "    'Frontend Developer', \n",
    "    'Backend Developer', \n",
    "    'UX/UI Designer',\n",
    "    'Graphic Designer',\n",
    "    'HHRR Manager', \n",
    "    'Analytics Manager', \n",
    "    'Marketing Director', \n",
    "    'Social Media Manager', \n",
    "    'SEO/SEM Specialist',\n",
    "    'DevOps Engineer',\n",
    "    'Public Relations Manager',\n",
    "    'Financial Analyst',\n",
    "    'Tax Specialst',\n",
    "    'Cybersecurity Analyst',\n",
    "    'Systems Administrator',\n",
    "    'Database Analyst',\n",
    "    'Warehouse Manager',\n",
    "    'Logistics Coordinator',\n",
    "    'Quality Assurance (QA) Manager',\n",
    "    'Production Supervisor',\n",
    "    'Inventory Manager',\n",
    "    'Customer Support Manager',\n",
    "    'Technical Support Specialist',\n",
    "    'Call Center Representative',\n",
    "    'Client Services Coordinator',\n",
    "    'Corporate Lawyer',\n",
    "    'Contract Manager',\n",
    "    'Regulatory Affairs Specialist'\n",
    "    ]"
   ]
  },
  {
   "cell_type": "code",
   "execution_count": 0,
   "metadata": {
    "application/vnd.databricks.v1+cell": {
     "cellMetadata": {
      "byteLimit": 2048000,
      "rowLimit": 10000
     },
     "inputWidgets": {},
     "nuid": "4483d367-2a0c-4980-8e92-dfe72a73fa47",
     "showTitle": false,
     "tableResultSettingsMap": {},
     "title": ""
    }
   },
   "outputs": [],
   "source": [
    "products_names = [\"Smartwatch\",\n",
    "    \"Wireless Headphones\",\n",
    "    \"4K UHD Monitor\",\n",
    "    \"Ergonomic Office Chair\",\n",
    "    \"Standing Desk\",\n",
    "    \"Robotic Vacuum Cleaner\",\n",
    "    \"Smart Thermostat\",\n",
    "    \"Outdoor Grill\",\n",
    "    \"Lawn Mower\",\n",
    "    \"Garden Hose\",\n",
    "    \"Planting Pot Set\",\n",
    "    \"Digital Camera\",\n",
    "    \"Portable Bluetooth Speaker\",\n",
    "    \"Mesh Wi-Fi System\",\n",
    "    \"Electric Kettle\",\n",
    "    \"Blender\",\n",
    "    \"Toaster Oven\",\n",
    "    \"Sofa Bed\",\n",
    "    \"Dining Table\",\n",
    "    \"Bookshelf\",\n",
    "    \"Bedside Lamp\",\n",
    "    \"Coffee Maker\",\n",
    "    \"Wireless Keyboard\",\n",
    "    \"External Hard Drive\",\n",
    "    \"Gaming Mouse\",\n",
    "    \"Laptop Backpack\",\n",
    "    \"Water Bottle\",\n",
    "    \"Yoga Mat\",\n",
    "    \"Resistance Bands\",\n",
    "    \"Air Fryer\",\n",
    "    \"Espresso Machine\",\n",
    "    \"Handheld Garment Steamer\",\n",
    "    \"Cordless Drill\",\n",
    "    \"Toolbox\",\n",
    "    \"Pressure Washer\",\n",
    "    \"Security Camera\",\n",
    "    \"Smart Lock\",\n",
    "    \"Drone\",\n",
    "    \"Projector\",\n",
    "    \"Soundbar\",\n",
    "    \"E-reader\",\n",
    "    \"Tablet Stand\",\n",
    "    \"Headphone Stand\",\n",
    "    \"Charging Dock\",\n",
    "    \"Power Bank\",\n",
    "    \"Solar-Powered Garden Lights\",\n",
    "    \"Hammock\",\n",
    "    \"Patio Umbrella\",\n",
    "    \"Folding Chair\",\n",
    "    \"Tent\",\n",
    "    \"Sleeping Bag\",\n",
    "    \"Hiking Boots\",\n",
    "    \"Binoculars\",\n",
    "    \"Fishing Rod\",\n",
    "    \"Canoe\",\n",
    "    \"Skateboard\",\n",
    "    \"Bicycle\",\n",
    "    \"Treadmill\",\n",
    "    \"Dumbbell Set\",\n",
    "    \"Jump Rope\",\n",
    "    \"Foam Roller\",\n",
    "    \"Weighted Blanket\",\n",
    "    \"Dehumidifier\",\n",
    "    \"Humidifier\",\n",
    "    \"Air Purifier\",\n",
    "    \"Essential Oil Diffuser\",\n",
    "    \"Diffuser\",\n",
    "    \"Scented Candles\",\n",
    "    \"Picture Frame\",\n",
    "    \"Wall Clock\",\n",
    "    \"Throw Pillow\",\n",
    "    \"Area Rug\",\n",
    "    \"Floor Lamp\",\n",
    "    \"Desk Lamp\",\n",
    "    \"Desk Organizer\",\n",
    "    \"Stapler\",\n",
    "    \"Hole Puncher\",\n",
    "    \"Notebook\",\n",
    "    \"Pen Set\",\n",
    "    \"Calculator\",\n",
    "    \"Webcam\",\n",
    "    \"Microphone\",\n",
    "    \"USB Hub\",\n",
    "    \"Cable Organizer\",\n",
    "    \"Wireless Charger\",\n",
    "    \"Screen Protector\",\n",
    "    \"Phone Case\",\n",
    "    \"Pop Socket\",\n",
    "    \"Ring Light\",\n",
    "    \"Tripod\",\n",
    "    \"Gimbal\",\n",
    "    \"Action Camera\",\n",
    "    \"Dash Cam\",\n",
    "    \"Car Mount\",\n",
    "    \"Car Charger\",\n",
    "    \"Car Air Freshener\",\n",
    "    \"Car Seat Cover\",\n",
    "    \"Floor Mats\",\n",
    "    \"Air Compressor\",\n",
    "    \"Jumper Cables\",\n",
    "    \"Tire Inflator\",\n",
    "    \"Jack Stand\",\n",
    "    \"Pressure Gauge\"]"
   ]
  },
  {
   "cell_type": "code",
   "execution_count": 0,
   "metadata": {
    "application/vnd.databricks.v1+cell": {
     "cellMetadata": {
      "byteLimit": 2048000,
      "rowLimit": 10000
     },
     "inputWidgets": {},
     "nuid": "c32041c7-4fb9-4301-aec5-f0c37324fb31",
     "showTitle": false,
     "tableResultSettingsMap": {},
     "title": ""
    }
   },
   "outputs": [],
   "source": [
    "categories = [\n",
    "    'Electronics',\n",
    "    'Furniture',\n",
    "    'Home Appliances',\n",
    "    'Office Supplies',\n",
    "    'Gardening & Outdoor',\n",
    "    'Personal Accessories',\n",
    "    'Sports & Fitness',\n",
    "    'Home Decor',\n",
    "    'Tools & Automotive',\n",
    "    'Travel & Camping'\n",
    "]"
   ]
  },
  {
   "cell_type": "code",
   "execution_count": 0,
   "metadata": {
    "application/vnd.databricks.v1+cell": {
     "cellMetadata": {
      "byteLimit": 2048000,
      "rowLimit": 10000
     },
     "inputWidgets": {},
     "nuid": "9fa2872d-bfc2-46d9-81a0-7a471660974a",
     "showTitle": false,
     "tableResultSettingsMap": {},
     "title": ""
    }
   },
   "outputs": [],
   "source": [
    "payment_method = ['Cash', 'PayPal', 'CashApp', 'Credit Card', 'Debit Card', 'Apple Pay', 'Venmo'] # Payment Methods\n",
    "order_status = ['Shipped', 'Pending', 'Delivered', 'Cancelled'] # Order Status\n",
    "shipping_method = ['USPS', 'FedEx', 'Amazon Logistics', 'DHL'] # Shipping Methods "
   ]
  },
  {
   "cell_type": "code",
   "execution_count": 0,
   "metadata": {
    "application/vnd.databricks.v1+cell": {
     "cellMetadata": {
      "byteLimit": 2048000,
      "rowLimit": 10000
     },
     "inputWidgets": {},
     "nuid": "40a2ff6e-7ce2-4a36-a5ad-955083cb8a85",
     "showTitle": false,
     "tableResultSettingsMap": {},
     "title": ""
    }
   },
   "outputs": [],
   "source": [
    "def createEmployee(n):\n",
    "    employeesData = []\n",
    "    \n",
    "    for i in range(n):\n",
    "        \n",
    "        first_name = fake.first_name()\n",
    "        last_name = fake.last_name()\n",
    "        company = fake.company()\n",
    "\n",
    "        employee_record = {\n",
    "            'employee_id': i,\n",
    "            'first_name': first_name,\n",
    "            'last_name': last_name,\n",
    "            'age': random.randint(18, 50),\n",
    "            'address': fake.address(),\n",
    "            'country': fake.country(),\n",
    "            'city': fake.city(),\n",
    "            'company': company,\n",
    "            'email': f\"{first_name.lower()}_{last_name.lower()}@{company}.com\",\n",
    "            'job': random.choice(jobs),\n",
    "            'salary': random.randint(1500, 9000),\n",
    "            'years_of_experience': random.randint(0, 30)\n",
    "        }\n",
    "        \n",
    "        employeesData.append(employee_record)\n",
    "\n",
    "    return employeesData"
   ]
  },
  {
   "cell_type": "code",
   "execution_count": 0,
   "metadata": {
    "application/vnd.databricks.v1+cell": {
     "cellMetadata": {
      "byteLimit": 2048000,
      "rowLimit": 10000
     },
     "inputWidgets": {},
     "nuid": "89eeb039-b05d-4aac-99f3-a473e1d1f30a",
     "showTitle": false,
     "tableResultSettingsMap": {},
     "title": ""
    }
   },
   "outputs": [],
   "source": [
    "def createCustomer(n):\n",
    "    customersData = []\n",
    "\n",
    "    for x in range(n):\n",
    "        \n",
    "        customer_first_name = fake.first_name()\n",
    "        customer_last_name = fake.last_name()\n",
    "\n",
    "        customer_record = {\n",
    "            'customer_id': x,\n",
    "            'first_name': customer_first_name,\n",
    "            'last_name': customer_last_name,\n",
    "            'age': random.randint(18, 90),\n",
    "            'address': fake.address(),\n",
    "            'country': fake.country(),\n",
    "            'city': fake.city(),\n",
    "            'email': f\"{customer_first_name.lower()}.{customer_last_name.lower()}{random.randint(1, 99)}@gmail.com\"\n",
    "        }\n",
    "        \n",
    "        customersData.append(customer_record)\n",
    "\n",
    "    return customersData"
   ]
  },
  {
   "cell_type": "code",
   "execution_count": 0,
   "metadata": {
    "application/vnd.databricks.v1+cell": {
     "cellMetadata": {
      "byteLimit": 2048000,
      "rowLimit": 10000
     },
     "inputWidgets": {},
     "nuid": "a2a4504a-136d-452a-b895-48f871caa5fc",
     "showTitle": false,
     "tableResultSettingsMap": {},
     "title": ""
    }
   },
   "outputs": [],
   "source": [
    "def createProduct(n):\n",
    "    productsData = []\n",
    "\n",
    "    for p in range(n):\n",
    "        \n",
    "        product_record = {\n",
    "            'product_id': p,\n",
    "            'product_name': random.choice(products_names),\n",
    "            'category': random.choice(categories),\n",
    "            'product_price': round(random.uniform(7.0, 999.9), 2)\n",
    "        }\n",
    "        \n",
    "        productsData.append(product_record)\n",
    "\n",
    "    return productsData"
   ]
  },
  {
   "cell_type": "code",
   "execution_count": 0,
   "metadata": {
    "application/vnd.databricks.v1+cell": {
     "cellMetadata": {
      "byteLimit": 2048000,
      "rowLimit": 10000
     },
     "inputWidgets": {},
     "nuid": "43b174b1-f18c-4e00-a6de-f8ce1bf24833",
     "showTitle": false,
     "tableResultSettingsMap": {},
     "title": ""
    }
   },
   "outputs": [],
   "source": [
    "def createOrder(n, customers, products):\n",
    "    ordersData = []\n",
    "\n",
    "    for z in range(n):\n",
    "\n",
    "        customer = random.choice(customers)\n",
    "        product = random.choice(products)\n",
    "\n",
    "        order_record = {\n",
    "            'order_id': z,\n",
    "            'customer_id': customer['customer_id'],\n",
    "            'product_id': product['product_id'],\n",
    "            'product_name': product['product_name'],\n",
    "            'quantity': random.randint(1, 6),\n",
    "            'category': product['category'],\n",
    "            'amount': product['product_price'],\n",
    "            'sale_date': fake.date_time_between(datetime.date(2023, 1, 1), datetime.date(2023, 12, 31)),\n",
    "            'payment_method': random.choice(payment_method),\n",
    "            'order_status': random.choice(order_status),\n",
    "            'shipping_method': random.choice(shipping_method)\n",
    "        }\n",
    "        ordersData.append(order_record)\n",
    "        \n",
    "    return ordersData"
   ]
  },
  {
   "cell_type": "code",
   "execution_count": 0,
   "metadata": {
    "application/vnd.databricks.v1+cell": {
     "cellMetadata": {
      "byteLimit": 2048000,
      "rowLimit": 10000
     },
     "inputWidgets": {},
     "nuid": "ab641124-fd48-435f-bcc1-94b4a7b051fd",
     "showTitle": false,
     "tableResultSettingsMap": {},
     "title": ""
    }
   },
   "outputs": [],
   "source": [
    "employees = createEmployee(10000)"
   ]
  },
  {
   "cell_type": "code",
   "execution_count": 0,
   "metadata": {
    "application/vnd.databricks.v1+cell": {
     "cellMetadata": {
      "byteLimit": 2048000,
      "rowLimit": 10000
     },
     "inputWidgets": {},
     "nuid": "52eb54a3-ce83-46a2-855c-16b27cdf56fa",
     "showTitle": false,
     "tableResultSettingsMap": {},
     "title": ""
    }
   },
   "outputs": [],
   "source": [
    "products = createProduct(25000)"
   ]
  },
  {
   "cell_type": "code",
   "execution_count": 0,
   "metadata": {
    "application/vnd.databricks.v1+cell": {
     "cellMetadata": {
      "byteLimit": 2048000,
      "rowLimit": 10000
     },
     "inputWidgets": {},
     "nuid": "5054ce97-b485-4f18-b533-439fd124917d",
     "showTitle": false,
     "tableResultSettingsMap": {},
     "title": ""
    }
   },
   "outputs": [],
   "source": [
    "customers = createCustomer(800000)"
   ]
  },
  {
   "cell_type": "code",
   "execution_count": 0,
   "metadata": {
    "application/vnd.databricks.v1+cell": {
     "cellMetadata": {
      "byteLimit": 2048000,
      "rowLimit": 10000
     },
     "inputWidgets": {},
     "nuid": "dd2cd350-19f5-4534-a2d4-75d82c2cb785",
     "showTitle": false,
     "tableResultSettingsMap": {},
     "title": ""
    }
   },
   "outputs": [],
   "source": [
    "orders = createOrder(1000000, customers, products)"
   ]
  },
  {
   "cell_type": "code",
   "execution_count": 0,
   "metadata": {
    "application/vnd.databricks.v1+cell": {
     "cellMetadata": {
      "byteLimit": 2048000,
      "rowLimit": 10000
     },
     "inputWidgets": {},
     "nuid": "0c4d9a75-b14e-4f1c-a3b8-37e66cb2ac5e",
     "showTitle": false,
     "tableResultSettingsMap": {},
     "title": ""
    }
   },
   "outputs": [],
   "source": [
    "print(f\"{len(employees)} employees generated\")\n",
    "print(f\"{len(customers)} customers generated\")\n",
    "print(f\"{len(products)} products generated\")\n",
    "print(f\"{len(orders)} orders generated\")"
   ]
  },
  {
   "cell_type": "code",
   "execution_count": 0,
   "metadata": {
    "application/vnd.databricks.v1+cell": {
     "cellMetadata": {
      "byteLimit": 2048000,
      "rowLimit": 10000
     },
     "inputWidgets": {},
     "nuid": "c1156044-2638-4494-bf3d-2441f73c3048",
     "showTitle": false,
     "tableResultSettingsMap": {},
     "title": ""
    }
   },
   "outputs": [],
   "source": [
    "df_employees = pl.DataFrame(employees)\n",
    "df_orders = pl.DataFrame(orders)\n",
    "df_customers = pl.DataFrame(customers)\n",
    "df_products = pl.DataFrame(products)\n",
    "\n",
    "df_employees.write_csv(\"/Volumes/workspace/default/faker-etl/data/2023/employees.csv\", include_header=True) #Polars\n",
    "df_products.write_csv(\"/Volumes/workspace/default/faker-etl/data/2023/products.csv\", include_header=True) #Polars\n",
    "df_customers.write_parquet(\"/Volumes/workspace/default/faker-etl/data/2023/customers.parquet\") #Polars\n",
    "df_orders.write_parquet(\"/Volumes/workspace/default/faker-etl/data/2023/orders.parquet\") #Polars"
   ]
  }
 ],
 "metadata": {
  "application/vnd.databricks.v1+notebook": {
   "computePreferences": {
    "hardware": {
     "accelerator": null,
     "gpuPoolId": null,
     "memory": null
    }
   },
   "dashboards": [],
   "environmentMetadata": null,
   "inputWidgetPreferences": null,
   "language": "python",
   "notebookMetadata": {
    "pythonIndentUnit": 4
   },
   "notebookName": "Generate 2023 Data",
   "widgets": {}
  },
  "kernelspec": {
   "display_name": "Python 3",
   "language": "python",
   "name": "python3"
  },
  "language_info": {
   "name": "python"
  }
 },
 "nbformat": 4,
 "nbformat_minor": 0
}
