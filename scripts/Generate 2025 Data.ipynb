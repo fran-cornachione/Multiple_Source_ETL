{
 "cells": [
  {
   "cell_type": "code",
   "execution_count": 1,
   "metadata": {
    "application/vnd.databricks.v1+cell": {
     "cellMetadata": {
      "byteLimit": 2048000,
      "rowLimit": 10000
     },
     "inputWidgets": {},
     "nuid": "1a7ff75d-5c88-4c48-ac09-c2edba2a22f8",
     "showTitle": false,
     "tableResultSettingsMap": {},
     "title": ""
    }
   },
   "outputs": [
    {
     "name": "stdout",
     "output_type": "stream",
     "text": [
      "Requirement already satisfied: polars in c:\\users\\usuario\\appdata\\local\\programs\\python\\python311\\lib\\site-packages (1.32.3)\n",
      "Requirement already satisfied: faker in c:\\users\\usuario\\appdata\\local\\programs\\python\\python311\\lib\\site-packages (37.5.3)\n",
      "Requirement already satisfied: tzdata in c:\\users\\usuario\\appdata\\local\\programs\\python\\python311\\lib\\site-packages (from faker) (2025.2)\n",
      "Note: you may need to restart the kernel to use updated packages.\n"
     ]
    }
   ],
   "source": [
    "%pip install polars faker "
   ]
  },
  {
   "cell_type": "code",
   "execution_count": 2,
   "metadata": {
    "application/vnd.databricks.v1+cell": {
     "cellMetadata": {
      "byteLimit": 2048000,
      "rowLimit": 10000
     },
     "inputWidgets": {},
     "nuid": "85ef50dc-5736-4c38-b89e-b7a4a9567b6c",
     "showTitle": false,
     "tableResultSettingsMap": {},
     "title": ""
    }
   },
   "outputs": [],
   "source": [
    "from faker import Faker\n",
    "import polars as pl\n",
    "import datetime\n",
    "import random"
   ]
  },
  {
   "cell_type": "code",
   "execution_count": 3,
   "metadata": {
    "application/vnd.databricks.v1+cell": {
     "cellMetadata": {
      "byteLimit": 2048000,
      "rowLimit": 10000
     },
     "inputWidgets": {},
     "nuid": "e45c80f8-fde8-480e-8483-c9805e8badbf",
     "showTitle": false,
     "tableResultSettingsMap": {},
     "title": ""
    }
   },
   "outputs": [],
   "source": [
    "fake = Faker('en_US') # Language that Faker will use to generate Data"
   ]
  },
  {
   "cell_type": "code",
   "execution_count": 4,
   "metadata": {
    "application/vnd.databricks.v1+cell": {
     "cellMetadata": {
      "byteLimit": 2048000,
      "rowLimit": 10000
     },
     "inputWidgets": {},
     "nuid": "c4e16d7d-5d42-4df9-a883-b5caaeab48be",
     "showTitle": false,
     "tableResultSettingsMap": {},
     "title": ""
    }
   },
   "outputs": [],
   "source": [
    "# List of jobs that will be asigned to employees\n",
    "\n",
    "jobs = [\n",
    "    'Creative Director', \n",
    "    'Data Engineer', \n",
    "    'Data Analyst', \n",
    "    'BI Analyst', \n",
    "    'Frontend Developer', \n",
    "    'Backend Developer', \n",
    "    'UX/UI Designer',\n",
    "    'Graphic Designer',\n",
    "    'HHRR Manager', \n",
    "    'Analytics Manager', \n",
    "    'Marketing Director', \n",
    "    'Social Media Manager', \n",
    "    'SEO/SEM Specialist',\n",
    "    'DevOps Engineer',\n",
    "    'Public Relations Manager',\n",
    "    'Financial Analyst',\n",
    "    'Tax Specialst',\n",
    "    'Cybersecurity Analyst',\n",
    "    'Systems Administrator',\n",
    "    'Database Analyst',\n",
    "    'Warehouse Manager',\n",
    "    'Logistics Coordinator',\n",
    "    'Quality Assurance (QA) Manager',\n",
    "    'Production Supervisor',\n",
    "    'Inventory Manager',\n",
    "    'Customer Support Manager',\n",
    "    'Technical Support Specialist',\n",
    "    'Call Center Representative',\n",
    "    'Client Services Coordinator',\n",
    "    'Corporate Lawyer',\n",
    "    'Contract Manager',\n",
    "    'Regulatory Affairs Specialist'\n",
    "    ]"
   ]
  },
  {
   "cell_type": "code",
   "execution_count": 5,
   "metadata": {
    "application/vnd.databricks.v1+cell": {
     "cellMetadata": {
      "byteLimit": 2048000,
      "rowLimit": 10000
     },
     "inputWidgets": {},
     "nuid": "4483d367-2a0c-4980-8e92-dfe72a73fa47",
     "showTitle": false,
     "tableResultSettingsMap": {},
     "title": ""
    }
   },
   "outputs": [],
   "source": [
    "products_names = [\"Smartwatch\",\n",
    "    \"Wireless Headphones\",\n",
    "    \"4K UHD Monitor\",\n",
    "    \"Ergonomic Office Chair\",\n",
    "    \"Standing Desk\",\n",
    "    \"Robotic Vacuum Cleaner\",\n",
    "    \"Smart Thermostat\",\n",
    "    \"Outdoor Grill\",\n",
    "    \"Lawn Mower\",\n",
    "    \"Garden Hose\",\n",
    "    \"Planting Pot Set\",\n",
    "    \"Digital Camera\",\n",
    "    \"Portable Bluetooth Speaker\",\n",
    "    \"Mesh Wi-Fi System\",\n",
    "    \"Electric Kettle\",\n",
    "    \"Blender\",\n",
    "    \"Toaster Oven\",\n",
    "    \"Sofa Bed\",\n",
    "    \"Dining Table\",\n",
    "    \"Bookshelf\",\n",
    "    \"Bedside Lamp\",\n",
    "    \"Coffee Maker\",\n",
    "    \"Wireless Keyboard\",\n",
    "    \"External Hard Drive\",\n",
    "    \"Gaming Mouse\",\n",
    "    \"Laptop Backpack\",\n",
    "    \"Water Bottle\",\n",
    "    \"Yoga Mat\",\n",
    "    \"Resistance Bands\",\n",
    "    \"Air Fryer\",\n",
    "    \"Espresso Machine\",\n",
    "    \"Handheld Garment Steamer\",\n",
    "    \"Cordless Drill\",\n",
    "    \"Toolbox\",\n",
    "    \"Pressure Washer\",\n",
    "    \"Security Camera\",\n",
    "    \"Smart Lock\",\n",
    "    \"Drone\",\n",
    "    \"Projector\",\n",
    "    \"Soundbar\",\n",
    "    \"E-reader\",\n",
    "    \"Tablet Stand\",\n",
    "    \"Headphone Stand\",\n",
    "    \"Charging Dock\",\n",
    "    \"Power Bank\",\n",
    "    \"Solar-Powered Garden Lights\",\n",
    "    \"Hammock\",\n",
    "    \"Patio Umbrella\",\n",
    "    \"Folding Chair\",\n",
    "    \"Tent\",\n",
    "    \"Sleeping Bag\",\n",
    "    \"Hiking Boots\",\n",
    "    \"Binoculars\",\n",
    "    \"Fishing Rod\",\n",
    "    \"Canoe\",\n",
    "    \"Skateboard\",\n",
    "    \"Bicycle\",\n",
    "    \"Treadmill\",\n",
    "    \"Dumbbell Set\",\n",
    "    \"Jump Rope\",\n",
    "    \"Foam Roller\",\n",
    "    \"Weighted Blanket\",\n",
    "    \"Dehumidifier\",\n",
    "    \"Humidifier\",\n",
    "    \"Air Purifier\",\n",
    "    \"Essential Oil Diffuser\",\n",
    "    \"Diffuser\",\n",
    "    \"Scented Candles\",\n",
    "    \"Picture Frame\",\n",
    "    \"Wall Clock\",\n",
    "    \"Throw Pillow\",\n",
    "    \"Area Rug\",\n",
    "    \"Floor Lamp\",\n",
    "    \"Desk Lamp\",\n",
    "    \"Desk Organizer\",\n",
    "    \"Stapler\",\n",
    "    \"Hole Puncher\",\n",
    "    \"Notebook\",\n",
    "    \"Pen Set\",\n",
    "    \"Calculator\",\n",
    "    \"Webcam\",\n",
    "    \"Microphone\",\n",
    "    \"USB Hub\",\n",
    "    \"Cable Organizer\",\n",
    "    \"Wireless Charger\",\n",
    "    \"Screen Protector\",\n",
    "    \"Phone Case\",\n",
    "    \"Pop Socket\",\n",
    "    \"Ring Light\",\n",
    "    \"Tripod\",\n",
    "    \"Gimbal\",\n",
    "    \"Action Camera\",\n",
    "    \"Dash Cam\",\n",
    "    \"Car Mount\",\n",
    "    \"Car Charger\",\n",
    "    \"Car Air Freshener\",\n",
    "    \"Car Seat Cover\",\n",
    "    \"Floor Mats\",\n",
    "    \"Air Compressor\",\n",
    "    \"Jumper Cables\",\n",
    "    \"Tire Inflator\",\n",
    "    \"Jack Stand\",\n",
    "    \"Pressure Gauge\"]"
   ]
  },
  {
   "cell_type": "code",
   "execution_count": 6,
   "metadata": {
    "application/vnd.databricks.v1+cell": {
     "cellMetadata": {
      "byteLimit": 2048000,
      "rowLimit": 10000
     },
     "inputWidgets": {},
     "nuid": "c32041c7-4fb9-4301-aec5-f0c37324fb31",
     "showTitle": false,
     "tableResultSettingsMap": {},
     "title": ""
    }
   },
   "outputs": [],
   "source": [
    "categories = [\n",
    "    'Electronics',\n",
    "    'Furniture',\n",
    "    'Home Appliances',\n",
    "    'Office Supplies',\n",
    "    'Gardening & Outdoor',\n",
    "    'Personal Accessories',\n",
    "    'Sports & Fitness',\n",
    "    'Home Decor',\n",
    "    'Tools & Automotive',\n",
    "    'Travel & Camping'\n",
    "]"
   ]
  },
  {
   "cell_type": "code",
   "execution_count": 7,
   "metadata": {
    "application/vnd.databricks.v1+cell": {
     "cellMetadata": {
      "byteLimit": 2048000,
      "rowLimit": 10000
     },
     "inputWidgets": {},
     "nuid": "9fa2872d-bfc2-46d9-81a0-7a471660974a",
     "showTitle": false,
     "tableResultSettingsMap": {},
     "title": ""
    }
   },
   "outputs": [],
   "source": [
    "payment_method = ['Cash', 'PayPal', 'CashApp', 'Credit Card', 'Debit Card', 'Apple Pay', 'Venmo'] # Payment Methods\n",
    "order_status = ['Shipped', 'Pending', 'Delivered', 'Cancelled'] # Order Status\n",
    "shipping_method = ['USPS', 'FedEx', 'Amazon Logistics', 'DHL'] # Shipping Methods "
   ]
  },
  {
   "cell_type": "code",
   "execution_count": 8,
   "metadata": {
    "application/vnd.databricks.v1+cell": {
     "cellMetadata": {
      "byteLimit": 2048000,
      "rowLimit": 10000
     },
     "inputWidgets": {},
     "nuid": "40a2ff6e-7ce2-4a36-a5ad-955083cb8a85",
     "showTitle": false,
     "tableResultSettingsMap": {},
     "title": ""
    }
   },
   "outputs": [],
   "source": [
    "def createEmployee(n):\n",
    "    employeesData = []\n",
    "    \n",
    "    for i in range(n):\n",
    "        \n",
    "        first_name = fake.first_name()\n",
    "        last_name = fake.last_name()\n",
    "        company = fake.company()\n",
    "\n",
    "        employee_record = {\n",
    "            'employee_id': i,\n",
    "            'first_name': first_name,\n",
    "            'last_name': last_name,\n",
    "            'age': random.randint(18, 50),\n",
    "            'address': fake.address(),\n",
    "            'country': fake.country(),\n",
    "            'city': fake.city(),\n",
    "            'company': company,\n",
    "            'email': f\"{first_name.lower()}_{last_name.lower()}@{company}.com\",\n",
    "            'job': random.choice(jobs),\n",
    "            'salary': random.randint(1500, 9000),\n",
    "            'years_of_experience': random.randint(0, 30)\n",
    "        }\n",
    "        \n",
    "        employeesData.append(employee_record)\n",
    "\n",
    "    return employeesData"
   ]
  },
  {
   "cell_type": "code",
   "execution_count": 9,
   "metadata": {
    "application/vnd.databricks.v1+cell": {
     "cellMetadata": {
      "byteLimit": 2048000,
      "rowLimit": 10000
     },
     "inputWidgets": {},
     "nuid": "89eeb039-b05d-4aac-99f3-a473e1d1f30a",
     "showTitle": false,
     "tableResultSettingsMap": {},
     "title": ""
    }
   },
   "outputs": [],
   "source": [
    "def createCustomer(n):\n",
    "    customersData = []\n",
    "\n",
    "    for x in range(n):\n",
    "        \n",
    "        customer_first_name = fake.first_name()\n",
    "        customer_last_name = fake.last_name()\n",
    "\n",
    "        customer_record = {\n",
    "            'customer_id': x,\n",
    "            'first_name': customer_first_name,\n",
    "            'last_name': customer_last_name,\n",
    "            'age': random.randint(18, 90),\n",
    "            'address': fake.address(),\n",
    "            'country': fake.country(),\n",
    "            'city': fake.city(),\n",
    "            'email': f\"{customer_first_name.lower()}.{customer_last_name.lower()}{random.randint(1, 99)}@gmail.com\"\n",
    "        }\n",
    "        \n",
    "        customersData.append(customer_record)\n",
    "\n",
    "    return customersData"
   ]
  },
  {
   "cell_type": "code",
   "execution_count": 10,
   "metadata": {
    "application/vnd.databricks.v1+cell": {
     "cellMetadata": {
      "byteLimit": 2048000,
      "rowLimit": 10000
     },
     "inputWidgets": {},
     "nuid": "a2a4504a-136d-452a-b895-48f871caa5fc",
     "showTitle": false,
     "tableResultSettingsMap": {},
     "title": ""
    }
   },
   "outputs": [],
   "source": [
    "def createProduct(n):\n",
    "    productsData = []\n",
    "\n",
    "    for p in range(n):\n",
    "        \n",
    "        product_record = {\n",
    "            'product_id': p,\n",
    "            'product_name': random.choice(products_names),\n",
    "            'category': random.choice(categories),\n",
    "            'product_price': round(random.uniform(7.0, 999.9), 2)\n",
    "        }\n",
    "        \n",
    "        productsData.append(product_record)\n",
    "\n",
    "    return productsData"
   ]
  },
  {
   "cell_type": "code",
   "execution_count": 11,
   "metadata": {
    "application/vnd.databricks.v1+cell": {
     "cellMetadata": {
      "byteLimit": 2048000,
      "rowLimit": 10000
     },
     "inputWidgets": {},
     "nuid": "43b174b1-f18c-4e00-a6de-f8ce1bf24833",
     "showTitle": false,
     "tableResultSettingsMap": {},
     "title": ""
    }
   },
   "outputs": [],
   "source": [
    "def createOrder(n, customers, products):\n",
    "    ordersData = []\n",
    "\n",
    "    for z in range(n):\n",
    "\n",
    "        customer = random.choice(customers)\n",
    "        product = random.choice(products)\n",
    "\n",
    "        order_record = {\n",
    "            'order_id': z,\n",
    "            'customer_id': customer['customer_id'],\n",
    "            'product_id': product['product_id'],\n",
    "            'product_name': product['product_name'],\n",
    "            'quantity': random.randint(1, 6),\n",
    "            'category': product['category'],\n",
    "            'amount': product['product_price'],\n",
    "            'sale_date': fake.date_time_between(datetime.date(2025, 1, 1), datetime.date(2025, 12, 31)),\n",
    "            'payment_method': random.choice(payment_method),\n",
    "            'order_status': random.choice(order_status),\n",
    "            'shipping_method': random.choice(shipping_method)\n",
    "        }\n",
    "        ordersData.append(order_record)\n",
    "        \n",
    "    return ordersData"
   ]
  },
  {
   "cell_type": "code",
   "execution_count": 12,
   "metadata": {
    "application/vnd.databricks.v1+cell": {
     "cellMetadata": {
      "byteLimit": 2048000,
      "rowLimit": 10000
     },
     "inputWidgets": {},
     "nuid": "ab641124-fd48-435f-bcc1-94b4a7b051fd",
     "showTitle": false,
     "tableResultSettingsMap": {},
     "title": ""
    }
   },
   "outputs": [],
   "source": [
    "employees = createEmployee(10000)"
   ]
  },
  {
   "cell_type": "code",
   "execution_count": 13,
   "metadata": {
    "application/vnd.databricks.v1+cell": {
     "cellMetadata": {
      "byteLimit": 2048000,
      "rowLimit": 10000
     },
     "inputWidgets": {},
     "nuid": "52eb54a3-ce83-46a2-855c-16b27cdf56fa",
     "showTitle": false,
     "tableResultSettingsMap": {},
     "title": ""
    }
   },
   "outputs": [],
   "source": [
    "products = createProduct(15000)"
   ]
  },
  {
   "cell_type": "code",
   "execution_count": 14,
   "metadata": {
    "application/vnd.databricks.v1+cell": {
     "cellMetadata": {
      "byteLimit": 2048000,
      "rowLimit": 10000
     },
     "inputWidgets": {},
     "nuid": "5054ce97-b485-4f18-b533-439fd124917d",
     "showTitle": false,
     "tableResultSettingsMap": {},
     "title": ""
    }
   },
   "outputs": [],
   "source": [
    "customers = createCustomer(600000)"
   ]
  },
  {
   "cell_type": "code",
   "execution_count": 15,
   "metadata": {
    "application/vnd.databricks.v1+cell": {
     "cellMetadata": {
      "byteLimit": 2048000,
      "rowLimit": 10000
     },
     "inputWidgets": {},
     "nuid": "dd2cd350-19f5-4534-a2d4-75d82c2cb785",
     "showTitle": false,
     "tableResultSettingsMap": {},
     "title": ""
    }
   },
   "outputs": [],
   "source": [
    "orders = createOrder(1000000, customers, products)"
   ]
  },
  {
   "cell_type": "code",
   "execution_count": 16,
   "metadata": {
    "application/vnd.databricks.v1+cell": {
     "cellMetadata": {
      "byteLimit": 2048000,
      "rowLimit": 10000
     },
     "inputWidgets": {},
     "nuid": "0c4d9a75-b14e-4f1c-a3b8-37e66cb2ac5e",
     "showTitle": false,
     "tableResultSettingsMap": {},
     "title": ""
    }
   },
   "outputs": [
    {
     "name": "stdout",
     "output_type": "stream",
     "text": [
      "10000 employees generated\n",
      "600000 customers generated\n",
      "15000 products generated\n",
      "1000000 orders generated\n"
     ]
    }
   ],
   "source": [
    "print(f\"{len(employees)} employees generated\")\n",
    "print(f\"{len(customers)} customers generated\")\n",
    "print(f\"{len(products)} products generated\")\n",
    "print(f\"{len(orders)} orders generated\")"
   ]
  },
  {
   "cell_type": "code",
   "execution_count": 21,
   "metadata": {
    "application/vnd.databricks.v1+cell": {
     "cellMetadata": {
      "byteLimit": 2048000,
      "rowLimit": 10000
     },
     "inputWidgets": {},
     "nuid": "c1156044-2638-4494-bf3d-2441f73c3048",
     "showTitle": false,
     "tableResultSettingsMap": {},
     "title": ""
    }
   },
   "outputs": [
    {
     "ename": "FileNotFoundError",
     "evalue": "The system cannot find the path specified. (os error 3): multiple_source_ETL/data/bronze_layer/2025/employees.csv",
     "output_type": "error",
     "traceback": [
      "\u001b[31m---------------------------------------------------------------------------\u001b[39m",
      "\u001b[31mFileNotFoundError\u001b[39m                         Traceback (most recent call last)",
      "\u001b[36mCell\u001b[39m\u001b[36m \u001b[39m\u001b[32mIn[21]\u001b[39m\u001b[32m, line 6\u001b[39m\n\u001b[32m      3\u001b[39m df_customers = pl.DataFrame(customers)\n\u001b[32m      4\u001b[39m df_products = pl.DataFrame(products)\n\u001b[32m----> \u001b[39m\u001b[32m6\u001b[39m \u001b[43mdf_employees\u001b[49m\u001b[43m.\u001b[49m\u001b[43mwrite_csv\u001b[49m\u001b[43m(\u001b[49m\u001b[33;43m\"\u001b[39;49m\u001b[33;43mmultiple_source_ETL/data/bronze_layer/2025/employees.csv\u001b[39;49m\u001b[33;43m\"\u001b[39;49m\u001b[43m,\u001b[49m\u001b[43m \u001b[49m\u001b[43minclude_header\u001b[49m\u001b[43m=\u001b[49m\u001b[38;5;28;43;01mTrue\u001b[39;49;00m\u001b[43m)\u001b[49m \u001b[38;5;66;03m#Polars\u001b[39;00m\n\u001b[32m      7\u001b[39m df_products.write_csv(\u001b[33m\"\u001b[39m\u001b[33mmultiple_source_ETL/data/bronze_layer/2025/products.csv\u001b[39m\u001b[33m\"\u001b[39m, include_header=\u001b[38;5;28;01mTrue\u001b[39;00m) \u001b[38;5;66;03m#Polars\u001b[39;00m\n\u001b[32m      8\u001b[39m df_customers.write_parquet(\u001b[33m\"\u001b[39m\u001b[33mmultiple_source_ETL/data/bronze_layer/2025/customers.parquet\u001b[39m\u001b[33m\"\u001b[39m) \u001b[38;5;66;03m#Polars\u001b[39;00m\n",
      "\u001b[36mFile \u001b[39m\u001b[32mc:\\Users\\Usuario\\AppData\\Local\\Programs\\Python\\Python311\\Lib\\site-packages\\polars\\dataframe\\frame.py:3092\u001b[39m, in \u001b[36mDataFrame.write_csv\u001b[39m\u001b[34m(self, file, include_bom, include_header, separator, line_terminator, quote_char, batch_size, datetime_format, date_format, time_format, float_scientific, float_precision, decimal_comma, null_value, quote_style, storage_options, credential_provider, retries)\u001b[39m\n\u001b[32m   3088\u001b[39m engine: EngineType = \u001b[33m\"\u001b[39m\u001b[33min-memory\u001b[39m\u001b[33m\"\u001b[39m\n\u001b[32m   3090\u001b[39m \u001b[38;5;28;01mfrom\u001b[39;00m\u001b[38;5;250m \u001b[39m\u001b[34;01mpolars\u001b[39;00m\u001b[34;01m.\u001b[39;00m\u001b[34;01mlazyframe\u001b[39;00m\u001b[34;01m.\u001b[39;00m\u001b[34;01mopt_flags\u001b[39;00m\u001b[38;5;250m \u001b[39m\u001b[38;5;28;01mimport\u001b[39;00m QueryOptFlags\n\u001b[32m-> \u001b[39m\u001b[32m3092\u001b[39m \u001b[38;5;28;43mself\u001b[39;49m\u001b[43m.\u001b[49m\u001b[43mlazy\u001b[49m\u001b[43m(\u001b[49m\u001b[43m)\u001b[49m\u001b[43m.\u001b[49m\u001b[43msink_csv\u001b[49m\u001b[43m(\u001b[49m\n\u001b[32m   3093\u001b[39m \u001b[43m    \u001b[49m\u001b[43mtarget\u001b[49m\u001b[43m,\u001b[49m\n\u001b[32m   3094\u001b[39m \u001b[43m    \u001b[49m\u001b[43minclude_bom\u001b[49m\u001b[43m=\u001b[49m\u001b[43minclude_bom\u001b[49m\u001b[43m,\u001b[49m\n\u001b[32m   3095\u001b[39m \u001b[43m    \u001b[49m\u001b[43minclude_header\u001b[49m\u001b[43m=\u001b[49m\u001b[43minclude_header\u001b[49m\u001b[43m,\u001b[49m\n\u001b[32m   3096\u001b[39m \u001b[43m    \u001b[49m\u001b[43mseparator\u001b[49m\u001b[43m=\u001b[49m\u001b[43mseparator\u001b[49m\u001b[43m,\u001b[49m\n\u001b[32m   3097\u001b[39m \u001b[43m    \u001b[49m\u001b[43mline_terminator\u001b[49m\u001b[43m=\u001b[49m\u001b[43mline_terminator\u001b[49m\u001b[43m,\u001b[49m\n\u001b[32m   3098\u001b[39m \u001b[43m    \u001b[49m\u001b[43mquote_char\u001b[49m\u001b[43m=\u001b[49m\u001b[43mquote_char\u001b[49m\u001b[43m,\u001b[49m\n\u001b[32m   3099\u001b[39m \u001b[43m    \u001b[49m\u001b[43mbatch_size\u001b[49m\u001b[43m=\u001b[49m\u001b[43mbatch_size\u001b[49m\u001b[43m,\u001b[49m\n\u001b[32m   3100\u001b[39m \u001b[43m    \u001b[49m\u001b[43mdatetime_format\u001b[49m\u001b[43m=\u001b[49m\u001b[43mdatetime_format\u001b[49m\u001b[43m,\u001b[49m\n\u001b[32m   3101\u001b[39m \u001b[43m    \u001b[49m\u001b[43mdate_format\u001b[49m\u001b[43m=\u001b[49m\u001b[43mdate_format\u001b[49m\u001b[43m,\u001b[49m\n\u001b[32m   3102\u001b[39m \u001b[43m    \u001b[49m\u001b[43mtime_format\u001b[49m\u001b[43m=\u001b[49m\u001b[43mtime_format\u001b[49m\u001b[43m,\u001b[49m\n\u001b[32m   3103\u001b[39m \u001b[43m    \u001b[49m\u001b[43mfloat_scientific\u001b[49m\u001b[43m=\u001b[49m\u001b[43mfloat_scientific\u001b[49m\u001b[43m,\u001b[49m\n\u001b[32m   3104\u001b[39m \u001b[43m    \u001b[49m\u001b[43mfloat_precision\u001b[49m\u001b[43m=\u001b[49m\u001b[43mfloat_precision\u001b[49m\u001b[43m,\u001b[49m\n\u001b[32m   3105\u001b[39m \u001b[43m    \u001b[49m\u001b[43mdecimal_comma\u001b[49m\u001b[43m=\u001b[49m\u001b[43mdecimal_comma\u001b[49m\u001b[43m,\u001b[49m\n\u001b[32m   3106\u001b[39m \u001b[43m    \u001b[49m\u001b[43mnull_value\u001b[49m\u001b[43m=\u001b[49m\u001b[43mnull_value\u001b[49m\u001b[43m,\u001b[49m\n\u001b[32m   3107\u001b[39m \u001b[43m    \u001b[49m\u001b[43mquote_style\u001b[49m\u001b[43m=\u001b[49m\u001b[43mquote_style\u001b[49m\u001b[43m,\u001b[49m\n\u001b[32m   3108\u001b[39m \u001b[43m    \u001b[49m\u001b[43mstorage_options\u001b[49m\u001b[43m=\u001b[49m\u001b[43mstorage_options\u001b[49m\u001b[43m,\u001b[49m\n\u001b[32m   3109\u001b[39m \u001b[43m    \u001b[49m\u001b[43mcredential_provider\u001b[49m\u001b[43m=\u001b[49m\u001b[43mcredential_provider\u001b[49m\u001b[43m,\u001b[49m\n\u001b[32m   3110\u001b[39m \u001b[43m    \u001b[49m\u001b[43mretries\u001b[49m\u001b[43m=\u001b[49m\u001b[43mretries\u001b[49m\u001b[43m,\u001b[49m\n\u001b[32m   3111\u001b[39m \u001b[43m    \u001b[49m\u001b[43moptimizations\u001b[49m\u001b[43m=\u001b[49m\u001b[43mQueryOptFlags\u001b[49m\u001b[43m.\u001b[49m\u001b[43m_eager\u001b[49m\u001b[43m(\u001b[49m\u001b[43m)\u001b[49m\u001b[43m,\u001b[49m\n\u001b[32m   3112\u001b[39m \u001b[43m    \u001b[49m\u001b[43mengine\u001b[49m\u001b[43m=\u001b[49m\u001b[43mengine\u001b[49m\u001b[43m,\u001b[49m\n\u001b[32m   3113\u001b[39m \u001b[43m\u001b[49m\u001b[43m)\u001b[49m\n\u001b[32m   3115\u001b[39m \u001b[38;5;28;01mif\u001b[39;00m should_return_buffer:\n\u001b[32m   3116\u001b[39m     \u001b[38;5;28;01mreturn\u001b[39;00m \u001b[38;5;28mstr\u001b[39m(target.getvalue(), encoding=\u001b[33m\"\u001b[39m\u001b[33mutf-8\u001b[39m\u001b[33m\"\u001b[39m)  \u001b[38;5;66;03m# type: ignore[union-attr]\u001b[39;00m\n",
      "\u001b[36mFile \u001b[39m\u001b[32mc:\\Users\\Usuario\\AppData\\Local\\Programs\\Python\\Python311\\Lib\\site-packages\\polars\\lazyframe\\frame.py:3314\u001b[39m, in \u001b[36mLazyFrame.sink_csv\u001b[39m\u001b[34m(***failed resolving arguments***)\u001b[39m\n\u001b[32m   3312\u001b[39m     ldf_py = ldf_py.with_optimizations(optimizations._pyoptflags)\n\u001b[32m   3313\u001b[39m     ldf = LazyFrame._from_pyldf(ldf_py)\n\u001b[32m-> \u001b[39m\u001b[32m3314\u001b[39m     \u001b[43mldf\u001b[49m\u001b[43m.\u001b[49m\u001b[43mcollect\u001b[49m\u001b[43m(\u001b[49m\u001b[43mengine\u001b[49m\u001b[43m=\u001b[49m\u001b[43mengine\u001b[49m\u001b[43m)\u001b[49m\n\u001b[32m   3315\u001b[39m     \u001b[38;5;28;01mreturn\u001b[39;00m \u001b[38;5;28;01mNone\u001b[39;00m\n\u001b[32m   3316\u001b[39m \u001b[38;5;28;01mreturn\u001b[39;00m LazyFrame._from_pyldf(ldf_py)\n",
      "\u001b[36mFile \u001b[39m\u001b[32mc:\\Users\\Usuario\\AppData\\Local\\Programs\\Python\\Python311\\Lib\\site-packages\\polars\\_utils\\deprecation.py:97\u001b[39m, in \u001b[36mdeprecate_streaming_parameter.<locals>.decorate.<locals>.wrapper\u001b[39m\u001b[34m(*args, **kwargs)\u001b[39m\n\u001b[32m     93\u001b[39m         kwargs[\u001b[33m\"\u001b[39m\u001b[33mengine\u001b[39m\u001b[33m\"\u001b[39m] = \u001b[33m\"\u001b[39m\u001b[33min-memory\u001b[39m\u001b[33m\"\u001b[39m\n\u001b[32m     95\u001b[39m     \u001b[38;5;28;01mdel\u001b[39;00m kwargs[\u001b[33m\"\u001b[39m\u001b[33mstreaming\u001b[39m\u001b[33m\"\u001b[39m]\n\u001b[32m---> \u001b[39m\u001b[32m97\u001b[39m \u001b[38;5;28;01mreturn\u001b[39;00m \u001b[43mfunction\u001b[49m\u001b[43m(\u001b[49m\u001b[43m*\u001b[49m\u001b[43margs\u001b[49m\u001b[43m,\u001b[49m\u001b[43m \u001b[49m\u001b[43m*\u001b[49m\u001b[43m*\u001b[49m\u001b[43mkwargs\u001b[49m\u001b[43m)\u001b[49m\n",
      "\u001b[36mFile \u001b[39m\u001b[32mc:\\Users\\Usuario\\AppData\\Local\\Programs\\Python\\Python311\\Lib\\site-packages\\polars\\lazyframe\\opt_flags.py:330\u001b[39m, in \u001b[36mforward_old_opt_flags.<locals>.decorate.<locals>.wrapper\u001b[39m\u001b[34m(*args, **kwargs)\u001b[39m\n\u001b[32m    327\u001b[39m         optflags = cb(optflags, kwargs.pop(key))  \u001b[38;5;66;03m# type: ignore[no-untyped-call,unused-ignore]\u001b[39;00m\n\u001b[32m    329\u001b[39m kwargs[\u001b[33m\"\u001b[39m\u001b[33moptimizations\u001b[39m\u001b[33m\"\u001b[39m] = optflags\n\u001b[32m--> \u001b[39m\u001b[32m330\u001b[39m \u001b[38;5;28;01mreturn\u001b[39;00m \u001b[43mfunction\u001b[49m\u001b[43m(\u001b[49m\u001b[43m*\u001b[49m\u001b[43margs\u001b[49m\u001b[43m,\u001b[49m\u001b[43m \u001b[49m\u001b[43m*\u001b[49m\u001b[43m*\u001b[49m\u001b[43mkwargs\u001b[49m\u001b[43m)\u001b[49m\n",
      "\u001b[36mFile \u001b[39m\u001b[32mc:\\Users\\Usuario\\AppData\\Local\\Programs\\Python\\Python311\\Lib\\site-packages\\polars\\lazyframe\\frame.py:2335\u001b[39m, in \u001b[36mLazyFrame.collect\u001b[39m\u001b[34m(self, type_coercion, predicate_pushdown, projection_pushdown, simplify_expression, slice_pushdown, comm_subplan_elim, comm_subexpr_elim, cluster_with_columns, collapse_joins, no_optimization, engine, background, optimizations, **_kwargs)\u001b[39m\n\u001b[32m   2333\u001b[39m \u001b[38;5;66;03m# Only for testing purposes\u001b[39;00m\n\u001b[32m   2334\u001b[39m callback = _kwargs.get(\u001b[33m\"\u001b[39m\u001b[33mpost_opt_callback\u001b[39m\u001b[33m\"\u001b[39m, callback)\n\u001b[32m-> \u001b[39m\u001b[32m2335\u001b[39m \u001b[38;5;28;01mreturn\u001b[39;00m wrap_df(\u001b[43mldf\u001b[49m\u001b[43m.\u001b[49m\u001b[43mcollect\u001b[49m\u001b[43m(\u001b[49m\u001b[43mengine\u001b[49m\u001b[43m,\u001b[49m\u001b[43m \u001b[49m\u001b[43mcallback\u001b[49m\u001b[43m)\u001b[49m)\n",
      "\u001b[31mFileNotFoundError\u001b[39m: The system cannot find the path specified. (os error 3): multiple_source_ETL/data/bronze_layer/2025/employees.csv"
     ]
    }
   ],
   "source": [
    "df_employees = pl.DataFrame(employees)\n",
    "df_orders = pl.DataFrame(orders)\n",
    "df_customers = pl.DataFrame(customers)\n",
    "df_products = pl.DataFrame(products)\n",
    "\n",
    "df_employees.write_csv(\"multiple_source_ETL/data/bronze_layer/2025/employees.csv\", include_header=True) #Polars\n",
    "df_products.write_csv(\"multiple_source_ETL/data/bronze_layer/2025/products.csv\", include_header=True) #Polars\n",
    "df_customers.write_parquet(\"multiple_source_ETL/data/bronze_layer/2025/customers.parquet\") #Polars\n",
    "df_orders.write_parquet(\"multiple_source_ETL/data/bronze_layer/2025/orders.parquet\") #Polars"
   ]
  }
 ],
 "metadata": {
  "application/vnd.databricks.v1+notebook": {
   "computePreferences": {
    "hardware": {
     "accelerator": null,
     "gpuPoolId": null,
     "memory": null
    }
   },
   "dashboards": [],
   "environmentMetadata": null,
   "inputWidgetPreferences": null,
   "language": "python",
   "notebookMetadata": {
    "pythonIndentUnit": 4
   },
   "notebookName": "Generate 2025 Data",
   "widgets": {}
  },
  "kernelspec": {
   "display_name": "Python 3",
   "language": "python",
   "name": "python3"
  },
  "language_info": {
   "codemirror_mode": {
    "name": "ipython",
    "version": 3
   },
   "file_extension": ".py",
   "mimetype": "text/x-python",
   "name": "python",
   "nbconvert_exporter": "python",
   "pygments_lexer": "ipython3",
   "version": "3.11.8"
  }
 },
 "nbformat": 4,
 "nbformat_minor": 0
}
